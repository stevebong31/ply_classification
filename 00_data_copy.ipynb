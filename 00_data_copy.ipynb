{
 "cells": [
  {
   "cell_type": "code",
   "execution_count": 14,
   "metadata": {},
   "outputs": [],
   "source": [
    "import os, glob\n",
    "import shutil\n",
    "import pandas as pd"
   ]
  },
  {
   "cell_type": "code",
   "execution_count": 2,
   "metadata": {},
   "outputs": [],
   "source": [
    "path = 'C:/Users/HW-Steve/Desktop/DATA/data_2020-01-16_deid/'"
   ]
  },
  {
   "cell_type": "code",
   "execution_count": 3,
   "metadata": {},
   "outputs": [],
   "source": [
    "pre_data_list = glob.glob(path + '*/*PRE/*SO.stl')"
   ]
  },
  {
   "cell_type": "code",
   "execution_count": 4,
   "metadata": {},
   "outputs": [
    {
     "data": {
      "text/plain": [
       "['C:/Users/HW-Steve/Desktop/DATA/data_2020-01-16_deid\\\\0001\\\\PRE\\\\0001A1SO.stl',\n",
       " 'C:/Users/HW-Steve/Desktop/DATA/data_2020-01-16_deid\\\\0002\\\\PRE\\\\0002A1SO.stl',\n",
       " 'C:/Users/HW-Steve/Desktop/DATA/data_2020-01-16_deid\\\\0020\\\\1PRE\\\\0020A1SO.stl',\n",
       " 'C:/Users/HW-Steve/Desktop/DATA/data_2020-01-16_deid\\\\0028\\\\1PRE\\\\0028A1SO.stl',\n",
       " 'C:/Users/HW-Steve/Desktop/DATA/data_2020-01-16_deid\\\\0029\\\\2PRE\\\\0029A2SO.stl',\n",
       " 'C:/Users/HW-Steve/Desktop/DATA/data_2020-01-16_deid\\\\0036\\\\1PRE\\\\0036A1SO.stl',\n",
       " 'C:/Users/HW-Steve/Desktop/DATA/data_2020-01-16_deid\\\\0056\\\\1PRE\\\\0056A1SO.stl',\n",
       " 'C:/Users/HW-Steve/Desktop/DATA/data_2020-01-16_deid\\\\0059\\\\1PRE\\\\0059A1SO.stl',\n",
       " 'C:/Users/HW-Steve/Desktop/DATA/data_2020-01-16_deid\\\\0069\\\\1PRE\\\\0069A1SO.stl',\n",
       " 'C:/Users/HW-Steve/Desktop/DATA/data_2020-01-16_deid\\\\0072\\\\2PRE\\\\0072A2SO.stl',\n",
       " 'C:/Users/HW-Steve/Desktop/DATA/data_2020-01-16_deid\\\\0077\\\\1PRE\\\\0077A1SO.stl']"
      ]
     },
     "execution_count": 4,
     "metadata": {},
     "output_type": "execute_result"
    }
   ],
   "source": [
    "pre_data_list"
   ]
  },
  {
   "cell_type": "code",
   "execution_count": 5,
   "metadata": {},
   "outputs": [],
   "source": [
    "post_data_list = glob.glob(path + '*/*POST/*SO.stl')"
   ]
  },
  {
   "cell_type": "code",
   "execution_count": 6,
   "metadata": {},
   "outputs": [
    {
     "data": {
      "text/plain": [
       "['C:/Users/HW-Steve/Desktop/DATA/data_2020-01-16_deid\\\\0001\\\\POST\\\\0001B1SO.stl',\n",
       " 'C:/Users/HW-Steve/Desktop/DATA/data_2020-01-16_deid\\\\0002\\\\POST\\\\0002B1SO.stl',\n",
       " 'C:/Users/HW-Steve/Desktop/DATA/data_2020-01-16_deid\\\\0006\\\\POST\\\\0006B1SO.stl',\n",
       " 'C:/Users/HW-Steve/Desktop/DATA/data_2020-01-16_deid\\\\0009\\\\POST\\\\0009B1SO.stl',\n",
       " 'C:/Users/HW-Steve/Desktop/DATA/data_2020-01-16_deid\\\\0013\\\\POST\\\\0013B1SO.stl',\n",
       " 'C:/Users/HW-Steve/Desktop/DATA/data_2020-01-16_deid\\\\0015\\\\POST\\\\0015B1SO.stl',\n",
       " 'C:/Users/HW-Steve/Desktop/DATA/data_2020-01-16_deid\\\\0016\\\\POST\\\\0016B1SO.stl',\n",
       " 'C:/Users/HW-Steve/Desktop/DATA/data_2020-01-16_deid\\\\0020\\\\1POST\\\\0020B1SO.stl',\n",
       " 'C:/Users/HW-Steve/Desktop/DATA/data_2020-01-16_deid\\\\0026\\\\1POST\\\\0026B1SO.stl',\n",
       " 'C:/Users/HW-Steve/Desktop/DATA/data_2020-01-16_deid\\\\0031\\\\1POST\\\\0031B1SO.stl',\n",
       " 'C:/Users/HW-Steve/Desktop/DATA/data_2020-01-16_deid\\\\0036\\\\1POST\\\\0036B1SO.stl',\n",
       " 'C:/Users/HW-Steve/Desktop/DATA/data_2020-01-16_deid\\\\0037\\\\1POST\\\\0037B1SO.stl',\n",
       " 'C:/Users/HW-Steve/Desktop/DATA/data_2020-01-16_deid\\\\0041\\\\1POST\\\\0041B1SO.stl',\n",
       " 'C:/Users/HW-Steve/Desktop/DATA/data_2020-01-16_deid\\\\0044\\\\1POST\\\\0044B1SO.stl',\n",
       " 'C:/Users/HW-Steve/Desktop/DATA/data_2020-01-16_deid\\\\0054\\\\1POST\\\\0054B1SO.stl',\n",
       " 'C:/Users/HW-Steve/Desktop/DATA/data_2020-01-16_deid\\\\0059\\\\1POST\\\\0059B1SO.stl',\n",
       " 'C:/Users/HW-Steve/Desktop/DATA/data_2020-01-16_deid\\\\0070\\\\1POST\\\\0070B1SO.stl',\n",
       " 'C:/Users/HW-Steve/Desktop/DATA/data_2020-01-16_deid\\\\0072\\\\1POST\\\\0072B1SO.stl',\n",
       " 'C:/Users/HW-Steve/Desktop/DATA/data_2020-01-16_deid\\\\0077\\\\1POST\\\\0077B1SO.stl']"
      ]
     },
     "execution_count": 6,
     "metadata": {},
     "output_type": "execute_result"
    }
   ],
   "source": [
    "post_data_list"
   ]
  },
  {
   "cell_type": "code",
   "execution_count": 12,
   "metadata": {},
   "outputs": [],
   "source": [
    "for i in pre_data_list:\n",
    "    shutil.copy2(i, 'C:/Users/HW-Steve/Desktop/DATA/dental_stl_data/pre/')"
   ]
  },
  {
   "cell_type": "code",
   "execution_count": 13,
   "metadata": {},
   "outputs": [],
   "source": [
    "for i in post_data_list:\n",
    "    shutil.copy2(i, 'C:/Users/HW-Steve/Desktop/DATA/dental_stl_data/post/')"
   ]
  },
  {
   "cell_type": "code",
   "execution_count": 8,
   "metadata": {},
   "outputs": [],
   "source": [
    "path = 'D:/DATA/data_2020-05-21_knu_deid/data_2020-05-21_knu_deid/'"
   ]
  },
  {
   "cell_type": "code",
   "execution_count": 9,
   "metadata": {},
   "outputs": [],
   "source": [
    "df = pd.read_excel(os.path.join(path, 'test.xlsx'))\n",
    "file_name_list = df['file'].tolist()\n",
    "file_folder_list = df['folder'].tolist()\n",
    "file_label_list = df['label'].tolist()"
   ]
  },
  {
   "cell_type": "code",
   "execution_count": 23,
   "metadata": {},
   "outputs": [],
   "source": [
    "save_path = 'D:/DATA/dental_stl_data/original/'"
   ]
  },
  {
   "cell_type": "code",
   "execution_count": 24,
   "metadata": {},
   "outputs": [],
   "source": [
    "for f_name, f_folder, f_label in zip (file_name_list, file_folder_list, file_label_list):\n",
    "    if f_label == 'Post-treatment':\n",
    "        copy_path = os.path.join(path, f_folder, 'Files', f_name)\n",
    "        shutil.copy2(copy_path, os.path.join(save_path, 'post'))\n",
    "    else:\n",
    "        copy_path = os.path.join(path, f_folder, 'Files', f_name)\n",
    "        shutil.copy2(copy_path, os.path.join(save_path, 'pre'))"
   ]
  },
  {
   "cell_type": "code",
   "execution_count": 19,
   "metadata": {},
   "outputs": [
    {
     "data": {
      "text/plain": [
       "'D:/DATA/data_2020-05-21_knu_deid/data_2020-05-21_knu_deid/QH0001\\\\QH0001_02B1SO.stl'"
      ]
     },
     "execution_count": 19,
     "metadata": {},
     "output_type": "execute_result"
    }
   ],
   "source": [
    "copy_path"
   ]
  },
  {
   "cell_type": "code",
   "execution_count": null,
   "metadata": {},
   "outputs": [],
   "source": []
  }
 ],
 "metadata": {
  "kernelspec": {
   "display_name": "Python 3",
   "language": "python",
   "name": "python3"
  },
  "language_info": {
   "codemirror_mode": {
    "name": "ipython",
    "version": 3
   },
   "file_extension": ".py",
   "mimetype": "text/x-python",
   "name": "python",
   "nbconvert_exporter": "python",
   "pygments_lexer": "ipython3",
   "version": "3.7.7"
  }
 },
 "nbformat": 4,
 "nbformat_minor": 4
}
