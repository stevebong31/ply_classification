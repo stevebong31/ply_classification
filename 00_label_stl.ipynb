{
 "cells": [
  {
   "cell_type": "code",
   "execution_count": 1,
   "metadata": {},
   "outputs": [],
   "source": [
    "import numpy as np\n",
    "import os, random, glob, cv2\n",
    "import matplotlib.pyplot as plt\n",
    "import pandas as pd"
   ]
  },
  {
   "cell_type": "code",
   "execution_count": 2,
   "metadata": {},
   "outputs": [],
   "source": [
    "csv_path = 'D:/DATA/data_2020-05-21_knu_deid/label_2020_07_29.xlsx'\n",
    "data_path = 'D:/DATA/data_2020-05-21_knu_deid/data_2020-05-21_knu_deid/'"
   ]
  },
  {
   "cell_type": "code",
   "execution_count": 3,
   "metadata": {},
   "outputs": [],
   "source": [
    "df = pd.read_excel(csv_path, delimiter=',')"
   ]
  },
  {
   "cell_type": "code",
   "execution_count": 4,
   "metadata": {},
   "outputs": [],
   "source": [
    "so_list = [x.split('\\\\')[1] for x in glob.glob('D:/DATA/data_2020-05-21_knu_deid/data_2020-05-21_knu_deid/' + '*/' +'Files/'+'*_01A1SO.stl')]\n",
    "angle_so_df = df[df['Project_id'].isin(so_list)]\n",
    "angle_so_list = angle_so_df['Project_id'].tolist()\n",
    "angle_noso_df = df[~df['Project_id'].isin(angle_so_list)]\n",
    "angle_noso_df.to_csv('D:/DATA/data_2020-05-21_knu_deid/angle_o_so_x.csv')"
   ]
  },
  {
   "cell_type": "code",
   "execution_count": 5,
   "metadata": {},
   "outputs": [],
   "source": [
    "mdl_list = [x.split('\\\\')[1] for x in glob.glob('D:/DATA/data_2020-05-21_knu_deid/data_2020-05-21_knu_deid/' + '*/' +'Files/'+'*_01A1SO.mdl')]\n",
    "angle_mdl_df = df[df['Project_id'].isin(mdl_list)]\n",
    "angle_mdl_df.to_csv('D:/DATA/data_2020-05-21_knu_deid/angle_o_mdl_o.csv')"
   ]
  },
  {
   "cell_type": "code",
   "execution_count": 6,
   "metadata": {},
   "outputs": [
    {
     "data": {
      "text/plain": [
       "Index(['c_order', 'Project_id', 'Sex', 'Treatment', 'Phase', 'Time (weeks)',\n",
       "       'Treatment length (weeks)', 'Angle Distance Right',\n",
       "       'Angle Distance Left', 'Diagnosis_id', 'Angle Class Model',\n",
       "       'Skeletal Class', 'Profile type', 'Facial pattern', 'Facial Asymmetry',\n",
       "       'Facial Asymmetry Side', 'Occlusal canting',\n",
       "       'Occlusal canting detailed', 'Upper Midline',\n",
       "       'Upper Midline Deviation (mm)', 'Lower Midline',\n",
       "       'Lower Midline Deviation (mm)', 'Overjet (mm)', 'Overbite (mm)',\n",
       "       'Curve of Spee', 'Lower Space Avaiable (mm)',\n",
       "       'Lower Space Require (mm)', 'Lower Space Discrepancy (mm)',\n",
       "       'Upper Space Avaiable (mm)', 'Upper Space Require (mm)',\n",
       "       'Upper Space Discrepancy (mm)', 'Upper Canine Width',\n",
       "       'Lower Canine Width', 'Upper Molar Width', 'Lower Molar Width',\n",
       "       'Note on diagnosis', 'Note on treatment plan', 'Upper Treated',\n",
       "       'Lower Treated', 'Treatment Type', 'Extraction Upper',\n",
       "       'Extraction Lower', 'Extraction Upper Detail',\n",
       "       'Extraction Lower Detail', 'Surgery Upper', 'Surgery Lower',\n",
       "       'DentisAI_Text_Result', 'DentisAI_Photo_Before',\n",
       "       'DentisAI_Photo_After'],\n",
       "      dtype='object')"
      ]
     },
     "execution_count": 6,
     "metadata": {},
     "output_type": "execute_result"
    }
   ],
   "source": [
    "angle_so_df.columns"
   ]
  },
  {
   "cell_type": "code",
   "execution_count": 7,
   "metadata": {},
   "outputs": [],
   "source": [
    "label_dict = {\"Project_id\": [], \"so_path\": [], \"Angle Class Model\": []}"
   ]
  },
  {
   "cell_type": "code",
   "execution_count": 8,
   "metadata": {},
   "outputs": [],
   "source": [
    "label_dict[\"Project_id\"] = angle_so_df['Project_id'].tolist() \n",
    "label_dict[\"Angle Class Model\"] = angle_so_df['Angle Class Model'].tolist() "
   ]
  },
  {
   "cell_type": "code",
   "execution_count": 9,
   "metadata": {},
   "outputs": [],
   "source": [
    "label_dict[\"so_path\"] = [os.path.join(f'{data_path}{x}/Files/{x}_01A1SO.stl') for x in angle_so_df['Project_id'].tolist()]"
   ]
  },
  {
   "cell_type": "code",
   "execution_count": 10,
   "metadata": {},
   "outputs": [],
   "source": [
    "label_dict_df = pd.DataFrame(label_dict)"
   ]
  },
  {
   "cell_type": "code",
   "execution_count": 14,
   "metadata": {},
   "outputs": [],
   "source": [
    "label_dict_df.to_csv('D:/DATA/data_2020-05-21_knu_deid/angle_class_labels.csv')"
   ]
  },
  {
   "cell_type": "code",
   "execution_count": null,
   "metadata": {},
   "outputs": [],
   "source": []
  }
 ],
 "metadata": {
  "kernelspec": {
   "display_name": "Python 3",
   "language": "python",
   "name": "python3"
  },
  "language_info": {
   "codemirror_mode": {
    "name": "ipython",
    "version": 3
   },
   "file_extension": ".py",
   "mimetype": "text/x-python",
   "name": "python",
   "nbconvert_exporter": "python",
   "pygments_lexer": "ipython3",
   "version": "3.7.8"
  }
 },
 "nbformat": 4,
 "nbformat_minor": 4
}
