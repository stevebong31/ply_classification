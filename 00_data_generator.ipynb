{
 "cells": [
  {
   "cell_type": "code",
   "execution_count": 43,
   "metadata": {},
   "outputs": [],
   "source": [
    "import numpy as np\n",
    "import os, random, glob, cv2\n",
    "import matplotlib.pyplot as plt\n",
    "import pandas as pd\n",
    "from tensorflow.keras.utils import to_categorical\n"
   ]
  },
  {
   "cell_type": "code",
   "execution_count": 86,
   "metadata": {},
   "outputs": [],
   "source": [
    "label_path = 'D:/DATA/data_2020-05-21_knu_deid/face_angle_class_labels.csv'\n",
    "df = pd.read_csv(label_path, delimiter=',')\n",
    "Angle_label = df['Angle Class Model'].tolist() \n",
    "ff_img_list = df['ff_path'].tolist() \n",
    "fl_img_list = df['fl_path'].tolist() "
   ]
  },
  {
   "cell_type": "code",
   "execution_count": 7,
   "metadata": {},
   "outputs": [],
   "source": [
    "data_path = 'D:/DATA/data_2020-05-21_knu_deid/data_2020-05-21_knu_deid/'"
   ]
  },
  {
   "cell_type": "code",
   "execution_count": 89,
   "metadata": {},
   "outputs": [],
   "source": [
    "ff_img_list = [f'{data_path}{x}' for x in ff_img_list]\n",
    "fl_img_list = [f'{data_path}{x}' for x in fl_img_list]"
   ]
  },
  {
   "cell_type": "code",
   "execution_count": 106,
   "metadata": {},
   "outputs": [],
   "source": [
    "def data_generator(ff_img_list, fl_img_list, Angle_label, img_shape, batch_size):\n",
    "    idx = 0\n",
    "    idx_list = list(range(len(ff_img_list)))\n",
    "    random.shuffle(idx_list)\n",
    "    angle_label_cate = to_categorical(np.array(Angle_label) -1)\n",
    "    \n",
    "    while 1:        \n",
    "        if idx > len(idx_list) - batch_size:\n",
    "            tmp_list = idx_list[idx:]\n",
    "            idx = 0\n",
    "        else:\n",
    "            tmp_list = idx_list[idx:idx+batch_size] # end of list batch \n",
    "            idx = idx + batch_size\n",
    "#         print(tmp_list)    \n",
    "        batch_ff_list = np.array(ff_img_list)[tmp_list]\n",
    "        batch_fl_list = np.array(fl_img_list)[tmp_list]\n",
    "        batch_labels = angle_label_cate[tmp_list, ...]\n",
    "        \n",
    "        batch_ff_img = []\n",
    "        batch_fl_img = []\n",
    "        for ff_img_path ,fl_img_path in zip(batch_ff_list, batch_ff_list):\n",
    "            ff_img = cv2.resize(cv2.cvtColor(cv2.imread(ff_img_path), cv2.COLOR_BGR2RGB), img_shape)\n",
    "            fl_img = cv2.resize(cv2.cvtColor(cv2.imread(fl_img_path), cv2.COLOR_BGR2RGB), img_shape)\n",
    "            batch_ff_img.append(ff_img)\n",
    "            batch_fl_img.append(fl_img)\n",
    "                \n",
    "        yield [np.array(batch_ff_img)/255., np.array(batch_fl_img)/255.], batch_labels"
   ]
  },
  {
   "cell_type": "code",
   "execution_count": 107,
   "metadata": {},
   "outputs": [],
   "source": [
    "batch_size = 32\n",
    "img_shape = (256, 256)\n",
    "train_gen = data_generator(ff_img_list, fl_img_list, Angle_label, img_shape, batch_size)"
   ]
  },
  {
   "cell_type": "code",
   "execution_count": 108,
   "metadata": {},
   "outputs": [
    {
     "name": "stdout",
     "output_type": "stream",
     "text": [
      "[143, 134, 131, 253, 279, 56, 151, 142, 17, 162, 117, 179, 91, 263, 271, 51, 79, 10, 92, 21, 219, 164, 13, 221, 107, 211, 270, 138, 237, 114, 236, 111]\n"
     ]
    }
   ],
   "source": [
    "img, lab = next(train_gen)"
   ]
  },
  {
   "cell_type": "code",
   "execution_count": null,
   "metadata": {},
   "outputs": [],
   "source": []
  }
 ],
 "metadata": {
  "kernelspec": {
   "display_name": "Python 3",
   "language": "python",
   "name": "python3"
  },
  "language_info": {
   "codemirror_mode": {
    "name": "ipython",
    "version": 3
   },
   "file_extension": ".py",
   "mimetype": "text/x-python",
   "name": "python",
   "nbconvert_exporter": "python",
   "pygments_lexer": "ipython3",
   "version": "3.7.8"
  }
 },
 "nbformat": 4,
 "nbformat_minor": 4
}
