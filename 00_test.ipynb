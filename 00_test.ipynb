{
 "cells": [
  {
   "cell_type": "code",
   "execution_count": 1,
   "metadata": {},
   "outputs": [],
   "source": [
    "import numpy as np\n",
    "import os, random\n",
    "import tensorflow as tf\n",
    "import matplotlib.pyplot as plt\n",
    "import imgaug.augmenters as iaa\n",
    "from IPython.display import clear_output\n",
    "from tensorflow.keras import optimizers\n",
    "from tensorflow.keras.layers import Input\n",
    "from tensorflow.keras.models import Model\n",
    "from tensorflow.keras.layers import Dense, Flatten, Reshape, Dropout\n",
    "from tensorflow.keras.layers import Conv2D, GlobalAveragePooling2D, MaxPooling2D\n",
    "from tensorflow.keras.layers import Lambda\n",
    "from tensorflow.keras import callbacks\n",
    "from tensorflow.keras.utils import to_categorical\n",
    "from tensorflow.keras.callbacks import ModelCheckpoint"
   ]
  },
  {
   "cell_type": "code",
   "execution_count": 10,
   "metadata": {},
   "outputs": [],
   "source": [
    "input_test = Input(shape=(256, 256, 1))\n",
    "\n",
    "x = Conv2D(2, 3, activation='relu')(input_test)\n",
    "c = Conv2D(2, 3, activation='relu')(x)\n",
    "p1 = Conv2D(1, 3, activation='relu')(c)\n",
    "\n",
    "p2 = Conv2D(1, 3, activation='relu')(c)\n",
    "\n",
    "model = Model(inputs=input_test, outputs=[p1, p2])\n",
    "model.compile(optimizer = 'adam', loss = 'MSE', loss_weights = [1,1])"
   ]
  },
  {
   "cell_type": "code",
   "execution_count": 11,
   "metadata": {},
   "outputs": [],
   "source": [
    "model.load_weights('test.h5')"
   ]
  },
  {
   "cell_type": "code",
   "execution_count": 12,
   "metadata": {},
   "outputs": [
    {
     "name": "stdout",
     "output_type": "stream",
     "text": [
      "Model: \"model_1\"\n",
      "__________________________________________________________________________________________________\n",
      "Layer (type)                    Output Shape         Param #     Connected to                     \n",
      "==================================================================================================\n",
      "input_2 (InputLayer)            [(None, 256, 256, 1) 0                                            \n",
      "__________________________________________________________________________________________________\n",
      "conv2d_4 (Conv2D)               (None, 254, 254, 2)  20          input_2[0][0]                    \n",
      "__________________________________________________________________________________________________\n",
      "conv2d_5 (Conv2D)               (None, 252, 252, 2)  38          conv2d_4[0][0]                   \n",
      "__________________________________________________________________________________________________\n",
      "conv2d_6 (Conv2D)               (None, 250, 250, 1)  19          conv2d_5[0][0]                   \n",
      "__________________________________________________________________________________________________\n",
      "conv2d_7 (Conv2D)               (None, 250, 250, 1)  19          conv2d_5[0][0]                   \n",
      "==================================================================================================\n",
      "Total params: 96\n",
      "Trainable params: 96\n",
      "Non-trainable params: 0\n",
      "__________________________________________________________________________________________________\n"
     ]
    }
   ],
   "source": [
    "model.summary()"
   ]
  },
  {
   "cell_type": "code",
   "execution_count": 3,
   "metadata": {},
   "outputs": [],
   "source": [
    "model.save_weights('test.h5')"
   ]
  },
  {
   "cell_type": "code",
   "execution_count": 13,
   "metadata": {},
   "outputs": [],
   "source": [
    "layer_1 = model.get_layer('conv2d_6')\n",
    "layer_2 = model.get_layer('conv2d_7')"
   ]
  },
  {
   "cell_type": "code",
   "execution_count": null,
   "metadata": {},
   "outputs": [],
   "source": [
    "layer_1.get_weights(), layer_2.get_weights()"
   ]
  },
  {
   "cell_type": "code",
   "execution_count": 6,
   "metadata": {},
   "outputs": [],
   "source": [
    "input_test1 = np.random.random((1,256,256,1))\n",
    "output_test1 =  np.random.random((1,250,250,1))"
   ]
  },
  {
   "cell_type": "code",
   "execution_count": null,
   "metadata": {},
   "outputs": [],
   "source": [
    "output_test1"
   ]
  },
  {
   "cell_type": "code",
   "execution_count": null,
   "metadata": {},
   "outputs": [],
   "source": [
    "input_test1.shape"
   ]
  },
  {
   "cell_type": "code",
   "execution_count": 14,
   "metadata": {},
   "outputs": [
    {
     "data": {
      "text/plain": [
       "[0.5945151, 0.31674796, 0.27776715]"
      ]
     },
     "execution_count": 14,
     "metadata": {},
     "output_type": "execute_result"
    }
   ],
   "source": [
    "model.train_on_batch(x = input_test1, y = [output_test1, output_test1])"
   ]
  },
  {
   "cell_type": "code",
   "execution_count": 15,
   "metadata": {},
   "outputs": [],
   "source": [
    "layer_1 = model.get_layer('conv2d_6')\n",
    "layer_2 = model.get_layer('conv2d_7')"
   ]
  },
  {
   "cell_type": "code",
   "execution_count": 9,
   "metadata": {},
   "outputs": [],
   "source": [
    "l1_01 = layer_1.get_weights()\n",
    "l2_01 = layer_2.get_weights()"
   ]
  },
  {
   "cell_type": "code",
   "execution_count": null,
   "metadata": {},
   "outputs": [],
   "source": [
    "l1_01, l2_01"
   ]
  },
  {
   "cell_type": "code",
   "execution_count": 16,
   "metadata": {},
   "outputs": [],
   "source": [
    "l1_11 = layer_1.get_weights()\n",
    "l2_11 = layer_2.get_weights()"
   ]
  },
  {
   "cell_type": "code",
   "execution_count": null,
   "metadata": {},
   "outputs": [],
   "source": [
    "l2_01 - l2_11"
   ]
  },
  {
   "cell_type": "code",
   "execution_count": 21,
   "metadata": {},
   "outputs": [
    {
     "data": {
      "text/plain": [
       "[array([[[[-0.00662976],\n",
       "          [-0.05093958]],\n",
       " \n",
       "         [[ 0.16623676],\n",
       "          [ 0.02452161]],\n",
       " \n",
       "         [[ 0.34510154],\n",
       "          [-0.2625875 ]]],\n",
       " \n",
       " \n",
       "        [[[ 0.27221698],\n",
       "          [ 0.30787015]],\n",
       " \n",
       "         [[-0.46612507],\n",
       "          [ 0.00682486]],\n",
       " \n",
       "         [[ 0.17395364],\n",
       "          [-0.33263308]]],\n",
       " \n",
       " \n",
       "        [[[ 0.19669765],\n",
       "          [ 0.28190285]],\n",
       " \n",
       "         [[-0.41077703],\n",
       "          [ 0.20555727]],\n",
       " \n",
       "         [[ 0.14609568],\n",
       "          [ 0.30971992]]]], dtype=float32),\n",
       " array([0.00100002], dtype=float32)]"
      ]
     },
     "execution_count": 21,
     "metadata": {},
     "output_type": "execute_result"
    }
   ],
   "source": [
    "l2_11"
   ]
  },
  {
   "cell_type": "code",
   "execution_count": 20,
   "metadata": {},
   "outputs": [
    {
     "ename": "NameError",
     "evalue": "name 'array' is not defined",
     "output_type": "error",
     "traceback": [
      "\u001b[1;31m---------------------------------------------------------------------------\u001b[0m",
      "\u001b[1;31mNameError\u001b[0m                                 Traceback (most recent call last)",
      "\u001b[1;32m<ipython-input-20-0a103263d4b3>\u001b[0m in \u001b[0;36m<module>\u001b[1;34m\u001b[0m\n\u001b[1;32m----> 1\u001b[1;33m l2_01  = [array([[[[-0.00662976],\n\u001b[0m\u001b[0;32m      2\u001b[0m           [-0.05093958]],\n\u001b[0;32m      3\u001b[0m \u001b[1;33m\u001b[0m\u001b[0m\n\u001b[0;32m      4\u001b[0m          [[ 0.16623676],\n\u001b[0;32m      5\u001b[0m           [ 0.02452161]],\n",
      "\u001b[1;31mNameError\u001b[0m: name 'array' is not defined"
     ]
    }
   ],
   "source": [
    "l2_01  = [array([[[[-0.00662976],\n",
    "          [-0.05093958]],\n",
    " \n",
    "         [[ 0.16623676],\n",
    "          [ 0.02452161]],\n",
    " \n",
    "         [[ 0.34510154],\n",
    "          [-0.2625875 ]]],\n",
    " \n",
    " \n",
    "        [[[ 0.27221698],\n",
    "          [ 0.30787015]],\n",
    " \n",
    "         [[-0.46612507],\n",
    "          [ 0.00682486]],\n",
    " \n",
    "         [[ 0.17395364],\n",
    "          [-0.33263308]]],\n",
    " \n",
    " \n",
    "        [[[ 0.19669765],\n",
    "          [ 0.28190285]],\n",
    " \n",
    "         [[-0.41077703],\n",
    "          [ 0.20555727]],\n",
    " \n",
    "         [[ 0.14609568],\n",
    "          [ 0.30971992]]]], dtype=float32),\n",
    " array([0.00100002], dtype=float32)]"
   ]
  },
  {
   "cell_type": "code",
   "execution_count": null,
   "metadata": {},
   "outputs": [],
   "source": []
  }
 ],
 "metadata": {
  "kernelspec": {
   "display_name": "Python 3",
   "language": "python",
   "name": "python3"
  },
  "language_info": {
   "codemirror_mode": {
    "name": "ipython",
    "version": 3
   },
   "file_extension": ".py",
   "mimetype": "text/x-python",
   "name": "python",
   "nbconvert_exporter": "python",
   "pygments_lexer": "ipython3",
   "version": "3.7.7"
  }
 },
 "nbformat": 4,
 "nbformat_minor": 4
}
