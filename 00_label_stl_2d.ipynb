{
 "cells": [
  {
   "cell_type": "code",
   "execution_count": 4,
   "metadata": {},
   "outputs": [],
   "source": [
    "import numpy as np\n",
    "import os, random, glob, cv2\n",
    "import matplotlib.pyplot as plt\n",
    "import pandas as pd"
   ]
  },
  {
   "cell_type": "code",
   "execution_count": 9,
   "metadata": {},
   "outputs": [],
   "source": [
    "csv_path = 'D:/DATA/data_2020-05-21_knu_deid/label_2020_07_29.xlsx'\n",
    "data_path = 'D:/DATA/data_2020-05-21_knu_deid/data_2020-05-21_knu_deid/'"
   ]
  },
  {
   "cell_type": "code",
   "execution_count": 10,
   "metadata": {},
   "outputs": [],
   "source": [
    "df = pd.read_excel(csv_path)"
   ]
  },
  {
   "cell_type": "code",
   "execution_count": 13,
   "metadata": {},
   "outputs": [],
   "source": [
    "file_format = {'so_file':'*_01A1SO.stl', 'face_left_file':'*_01A1FL.jpg', 'face_front_file':'*_01A1FF.jpg'}"
   ]
  },
  {
   "cell_type": "code",
   "execution_count": 20,
   "metadata": {},
   "outputs": [],
   "source": [
    "fl_list = [x.split('\\\\')[1] for x in glob.glob('D:/DATA/data_2020-05-21_knu_deid/data_2020-05-21_knu_deid/' + '*/' +'Files/'+file_format['face_left_file'])]\n",
    "angle_fl_df = df[df['Project_id'].isin(fl_list)]\n",
    "angle_fl_list = angle_fl_df['Project_id'].tolist()"
   ]
  },
  {
   "cell_type": "code",
   "execution_count": 23,
   "metadata": {},
   "outputs": [],
   "source": [
    "ff_list = [x.split('\\\\')[1] for x in glob.glob('D:/DATA/data_2020-05-21_knu_deid/data_2020-05-21_knu_deid/' + '*/' +'Files/'+file_format['face_front_file'])]\n",
    "angle_ff_df = df[df['Project_id'].isin(ff_list)]\n",
    "angle_ff_list = angle_ff_df['Project_id'].tolist()"
   ]
  },
  {
   "cell_type": "code",
   "execution_count": 27,
   "metadata": {},
   "outputs": [
    {
     "name": "stdout",
     "output_type": "stream",
     "text": [
      "True\n"
     ]
    }
   ],
   "source": [
    "print(angle_fl_list == angle_ff_list)"
   ]
  },
  {
   "cell_type": "code",
   "execution_count": 36,
   "metadata": {},
   "outputs": [],
   "source": [
    "label_dict = {\"Project_id\": [], \"ff_path\": [], \"fl_path\": [], \"Angle Class Model\": []}"
   ]
  },
  {
   "cell_type": "code",
   "execution_count": 39,
   "metadata": {},
   "outputs": [],
   "source": [
    "label_dict[\"Project_id\"] = angle_ff_list\n",
    "label_dict[\"Angle Class Model\"] = angle_fl_df['Angle Class Model'].tolist() "
   ]
  },
  {
   "cell_type": "code",
   "execution_count": 44,
   "metadata": {},
   "outputs": [],
   "source": [
    "label_dict[\"ff_path\"] = [f'{x}/Files/{x}_01A1FF.jpg' for x in angle_ff_list]\n",
    "label_dict[\"fl_path\"] = [f'{x}/Files/{x}_01A1FL.jpg' for x in angle_ff_list]"
   ]
  },
  {
   "cell_type": "code",
   "execution_count": 45,
   "metadata": {},
   "outputs": [],
   "source": [
    "label_dict_df = pd.DataFrame(label_dict)"
   ]
  },
  {
   "cell_type": "code",
   "execution_count": 47,
   "metadata": {},
   "outputs": [],
   "source": [
    "label_dict_df.to_csv('D:/DATA/data_2020-05-21_knu_deid/face_angle_class_labels.csv')"
   ]
  },
  {
   "cell_type": "code",
   "execution_count": null,
   "metadata": {},
   "outputs": [],
   "source": []
  }
 ],
 "metadata": {
  "kernelspec": {
   "display_name": "Python 3",
   "language": "python",
   "name": "python3"
  },
  "language_info": {
   "codemirror_mode": {
    "name": "ipython",
    "version": 3
   },
   "file_extension": ".py",
   "mimetype": "text/x-python",
   "name": "python",
   "nbconvert_exporter": "python",
   "pygments_lexer": "ipython3",
   "version": "3.7.8"
  }
 },
 "nbformat": 4,
 "nbformat_minor": 4
}
