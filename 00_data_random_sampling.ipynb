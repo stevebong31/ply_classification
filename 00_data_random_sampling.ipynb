{
 "cells": [
  {
   "cell_type": "code",
   "execution_count": 1,
   "metadata": {},
   "outputs": [],
   "source": [
    "import copy\n",
    "import numpy as np\n",
    "import os, glob\n",
    "from stl import mesh\n",
    "import matplotlib as mpl\n",
    "from mpl_toolkits.mplot3d import Axes3D\n",
    "import matplotlib.pyplot as plt"
   ]
  },
  {
   "cell_type": "code",
   "execution_count": 2,
   "metadata": {},
   "outputs": [],
   "source": [
    "post_path = ('D:/DATA/dental_stl_data/original/post/')\n",
    "pre_path = ('C:/Users/HW-Steve/Desktop/DATA/dental_stl_data/original/pre/')"
   ]
  },
  {
   "cell_type": "code",
   "execution_count": 3,
   "metadata": {},
   "outputs": [],
   "source": [
    "pre_data_list = glob.glob(pre_path + '*.ply')\n",
    "post_data_list = glob.glob(post_path + '*.ply')"
   ]
  },
  {
   "cell_type": "code",
   "execution_count": 21,
   "metadata": {},
   "outputs": [],
   "source": [
    "save_path = ('C:/Users/HW-Steve/Desktop/DATA/dental_stl_data/random/pre/')\n",
    "\n",
    "for data_path in pre_data_list:\n",
    "    pcd_load = o3d.io.read_point_cloud(data_path)\n",
    "    xyz_load = np.asarray(pcd_load.points)\n",
    "    idx = np.random.randint(len(xyz_load), size=10000)\n",
    "    down_xyz = xyz_load[idx,:]\n",
    "    downpcd = pcd_load\n",
    "    downpcd.points = o3d.utility.Vector3dVector(xyz_load[idx,:])\n",
    "    o3d.io.write_point_cloud(os.path.basename(data_path), downpcd)"
   ]
  },
  {
   "cell_type": "code",
   "execution_count": 20,
   "metadata": {},
   "outputs": [
    {
     "ename": "ValueError",
     "evalue": "Unknown format code 'd' for object of type 'str'",
     "output_type": "error",
     "traceback": [
      "\u001b[1;31m---------------------------------------------------------------------------\u001b[0m",
      "\u001b[1;31mValueError\u001b[0m                                Traceback (most recent call last)",
      "\u001b[1;32m<ipython-input-20-31a9b39726e3>\u001b[0m in \u001b[0;36m<module>\u001b[1;34m\u001b[0m\n\u001b[1;32m----> 1\u001b[1;33m \u001b[1;34mf'{i:02d}.ply'\u001b[0m\u001b[1;33m\u001b[0m\u001b[1;33m\u001b[0m\u001b[0m\n\u001b[0m",
      "\u001b[1;31mValueError\u001b[0m: Unknown format code 'd' for object of type 'str'"
     ]
    }
   ],
   "source": []
  },
  {
   "cell_type": "code",
   "execution_count": null,
   "metadata": {},
   "outputs": [],
   "source": []
  }
 ],
 "metadata": {
  "kernelspec": {
   "display_name": "Python 3",
   "language": "python",
   "name": "python3"
  },
  "language_info": {
   "codemirror_mode": {
    "name": "ipython",
    "version": 3
   },
   "file_extension": ".py",
   "mimetype": "text/x-python",
   "name": "python",
   "nbconvert_exporter": "python",
   "pygments_lexer": "ipython3",
   "version": "3.7.8"
  }
 },
 "nbformat": 4,
 "nbformat_minor": 4
}
